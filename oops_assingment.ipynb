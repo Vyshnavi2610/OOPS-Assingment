{
 "cells": [
  {
   "cell_type": "code",
   "execution_count": 1,
   "metadata": {},
   "outputs": [
    {
     "name": "stdout",
     "output_type": "stream",
     "text": [
      "Area: 9\n",
      "Perimeter: 12\n"
     ]
    }
   ],
   "source": [
    "#1)Create a Python class named Rectangle with attributes length and width. Implement methods \n",
    "# to calculate the area and perimeter of the rectangle.\n",
    "\n",
    "\n",
    "class Rectangle:\n",
    "    def __init__(self, length, width):\n",
    "        self.length = length\n",
    "        self.width = width\n",
    "\n",
    "    def area(self):\n",
    "        return self.length * self.width\n",
    "\n",
    "    def perimeter(self):\n",
    "        return 2 * (self.length + self.width)\n",
    "\n",
    "rectangle = Rectangle(3, 3)\n",
    "\n",
    "print(\"Area:\", rectangle.area())\n",
    "\n",
    "print(\"Perimeter:\", rectangle.perimeter())\n"
   ]
  },
  {
   "cell_type": "code",
   "execution_count": 2,
   "metadata": {},
   "outputs": [
    {
     "name": "stdout",
     "output_type": "stream",
     "text": [
      "Area: 201.06192982974676\n",
      "Circumference: 50.26548245743669\n"
     ]
    }
   ],
   "source": [
    "#2)Create a Python class Circle with attribute radius. \n",
    "# Implement methods to calculate the area and circumference of the circle.\n",
    "\n",
    "import math\n",
    "\n",
    "class Circle:\n",
    "    def __init__(self, radius):\n",
    "        self.radius = radius\n",
    "\n",
    "    def area(self):\n",
    "        return math.pi * self.radius ** 2\n",
    "\n",
    "    def circumference(self):\n",
    "        return 2 * math.pi * self.radius\n",
    "\n",
    "\n",
    "circle = Circle(8)\n",
    "\n",
    "print(\"Area:\", circle.area())\n",
    "\n",
    "print(\"Circumference:\", circle.circumference())\n"
   ]
  },
  {
   "cell_type": "code",
   "execution_count": 3,
   "metadata": {},
   "outputs": [
    {
     "name": "stdout",
     "output_type": "stream",
     "text": [
      "Employee Name: Vyshnavi\n",
      "Salary: 20000\n",
      "Designation: Software Developer\n"
     ]
    }
   ],
   "source": [
    "#3)Create a Python class Employee with attributes name, salary, and designation. \n",
    "# Implement a method to display employee details.\n",
    "\n",
    "class Employee:\n",
    "    def __init__(self,name,salary,designation):\n",
    "        self.name = name\n",
    "        self.salary = salary\n",
    "        self.designation = designation\n",
    "        \n",
    "    def display(self):\n",
    "        print(\"Employee Name:\", self.name)\n",
    "        print(\"Salary:\", self.salary)\n",
    "        print(\"Designation:\", self.designation)\n",
    "        \n",
    "employee = Employee(\"Vyshnavi\", 20000, \"Software Developer\")\n",
    "\n",
    "employee.display()"
   ]
  },
  {
   "cell_type": "code",
   "execution_count": 1,
   "metadata": {},
   "outputs": [
    {
     "name": "stdout",
     "output_type": "stream",
     "text": [
      "Current balance: 1000\n",
      "Deposited $500. New balance: $1500\n",
      "Withdrew $200. New balance: $1300\n",
      "Insufficient funds or invalid withdrawal amount.\n"
     ]
    }
   ],
   "source": [
    "#4)Create a Python class BankAccount with attributes balance. \n",
    "# Implement methods to deposit and withdraw money from the account.\n",
    "\n",
    "class Bank:\n",
    "    def __init__(self, balance=0):\n",
    "        self.balance = balance\n",
    "\n",
    "    def deposit(self, amount):\n",
    "        if amount > 0:\n",
    "            self.balance += amount\n",
    "            print(f\"Deposited ${amount}. New balance: ${self.balance}\")\n",
    "        else:\n",
    "            print(\"Invalid deposit amount. Please deposit a positive amount.\")\n",
    "\n",
    "    def withdraw(self, amount):\n",
    "        if 0 < amount <= self.balance:\n",
    "            self.balance -= amount\n",
    "            print(f\"Withdrew ${amount}. New balance: ${self.balance}\")\n",
    "        else:\n",
    "            print(\"Insufficient funds or invalid withdrawal amount.\")\n",
    "\n",
    "account = Bank(1000)\n",
    "print(\"Current balance:\", account.balance)\n",
    "account.deposit(500)\n",
    "account.withdraw(200)\n",
    "account.withdraw(1500)\n",
    "\n",
    "\n",
    "   \n",
    "\n"
   ]
  },
  {
   "cell_type": "code",
   "execution_count": 2,
   "metadata": {},
   "outputs": [
    {
     "name": "stdout",
     "output_type": "stream",
     "text": [
      "Vyshu is eligible for graduation: True\n",
      "Triveni is eligible for graduation: False\n"
     ]
    }
   ],
   "source": [
    "#5)Create a Python class Student with attributes name, age, and grade.\n",
    "# Implement a method to determine if a student is eligible for graduation based on their grade (>= 70).\n",
    "\n",
    "class Student:\n",
    "    def __init__(self, name, age, grade):\n",
    "        self.name = name\n",
    "        self.age = age\n",
    "        self.grade = grade\n",
    "\n",
    "    def is_eligible_for_graduation(self):\n",
    "        return self.grade >= 70\n",
    "\n",
    "student1 = Student(\"Vyshu\", 18, 85)\n",
    "student2 = Student(\"Triveni\", 17, 60)\n",
    "\n",
    "print(f\"{student1.name} is eligible for graduation:\", student1.is_eligible_for_graduation())\n",
    "print(f\"{student2.name} is eligible for graduation:\", student2.is_eligible_for_graduation())\n"
   ]
  },
  {
   "cell_type": "code",
   "execution_count": 8,
   "metadata": {},
   "outputs": [
    {
     "name": "stdout",
     "output_type": "stream",
     "text": [
      "Car details: Make - Toyota, Model - Suzki, Year - 2020\n",
      "Car details: Make - Crysta, Model - Swift, Year - 2022\n"
     ]
    }
   ],
   "source": [
    "#6)Create a Python class Car with attributes make, model, and year. \n",
    "# Implement a method to display the car's details.\n",
    "\n",
    "class Car:\n",
    "    def __init__(self, make, model, year):\n",
    "        self.make = make\n",
    "        self.model = model\n",
    "        self.year = year\n",
    "\n",
    "    def display_details(self):\n",
    "        print(f\"Car details: Make - {self.make}, Model - {self.model}, Year - {self.year}\")\n",
    "\n",
    "car1 = Car(\"Toyota\", \"Suzki\", 2020)\n",
    "car1.display_details()\n",
    "\n",
    "car2 = Car(\"Crysta\", \"Swift\", 2022)\n",
    "car2.display_details()\n"
   ]
  },
  {
   "cell_type": "code",
   "execution_count": 7,
   "metadata": {},
   "outputs": [
    {
     "name": "stdout",
     "output_type": "stream",
     "text": [
      "The price of 'The Great Gatsby' by F. Scott Fitzgerald after 10% discount is $22.50\n",
      "The price of 'To Kill a Mockingbird' by Harper Lee after 20% discount is $24.00\n"
     ]
    },
    {
     "data": {
      "text/plain": [
       "24.0"
      ]
     },
     "execution_count": 7,
     "metadata": {},
     "output_type": "execute_result"
    }
   ],
   "source": [
    "#7)Create a Python class Book with attributes title, author, and price.\n",
    "# Implement a method to discount the book price by a certain percentage.\n",
    "\n",
    "class Book:\n",
    "    def __init__(self, title, author, price):\n",
    "        self.title = title\n",
    "        self.author = author\n",
    "        self.price = price\n",
    "\n",
    "    def discount_price(self, percentage):\n",
    "        if percentage >= 0 and percentage <= 100:\n",
    "            discount_amount = self.price * (percentage / 100)\n",
    "            discounted_price = self.price - discount_amount\n",
    "            print(f\"The price of '{self.title}' by {self.author} after {percentage}% discount is ${discounted_price:.2f}\")\n",
    "            return discounted_price\n",
    "        else:\n",
    "            print(\"Invalid discount percentage.\")\n",
    "\n",
    "book1 = Book(\"The Great Gatsby\", \"F. Scott Fitzgerald\", 25)\n",
    "book1.discount_price(10)\n",
    "\n",
    "book2 = Book(\"To Kill a Mockingbird\", \"Harper Lee\", 30)\n",
    "book2.discount_price(20)\n",
    "\n",
    "\n"
   ]
  },
  {
   "cell_type": "code",
   "execution_count": 9,
   "metadata": {},
   "outputs": [
    {
     "name": "stdout",
     "output_type": "stream",
     "text": [
      "Bank details: Name - SBI, Location - Hyderabad\n",
      "Bank details: Name - KVB, Location - NRT\n"
     ]
    }
   ],
   "source": [
    "#8)Create a Python class Bank with attributes name and location. \n",
    "# Implement a method to display the bank's details.\n",
    "\n",
    "class Bank:\n",
    "    def __init__(self, name, location):\n",
    "        self.name = name\n",
    "        self.location = location\n",
    "\n",
    "    def display_details(self):\n",
    "        print(f\"Bank details: Name - {self.name}, Location - {self.location}\")\n",
    "\n",
    "bank1 = Bank(\"SBI\", \"Hyderabad\")\n",
    "bank1.display_details()\n",
    "\n",
    "bank2 = Bank(\"KVB\", \"NRT\")\n",
    "bank2.display_details()\n"
   ]
  },
  {
   "cell_type": "code",
   "execution_count": 10,
   "metadata": {},
   "outputs": [
    {
     "name": "stdout",
     "output_type": "stream",
     "text": [
      "Buddy is a puppy: False\n",
      "Max is a puppy: True\n"
     ]
    }
   ],
   "source": [
    "#9)Create a Python class Dog with attributes name and age. \n",
    "# Implement a method to determine if the dog is a puppy (age < 1).\n",
    "\n",
    "class Dog:\n",
    "    def __init__(self, name, age):\n",
    "        self.name = name\n",
    "        self.age = age\n",
    "\n",
    "    def is_puppy(self):\n",
    "        return self.age < 1\n",
    "\n",
    "dog1 = Dog(\"Buddy\", 2)\n",
    "dog2 = Dog(\"Max\", 0.5)\n",
    "\n",
    "print(f\"{dog1.name} is a puppy:\", dog1.is_puppy())\n",
    "print(f\"{dog2.name} is a puppy:\", dog2.is_puppy())\n"
   ]
  },
  {
   "cell_type": "code",
   "execution_count": 11,
   "metadata": {},
   "outputs": [
    {
     "name": "stdout",
     "output_type": "stream",
     "text": [
      "Area of Triangle: 10.0\n",
      "Area of Square: 36\n"
     ]
    }
   ],
   "source": [
    "#10)Create a Python class Shape with an abstract method area(). \n",
    "# Implement subclasses Triangle and Square with their own implementations of the area() method.\n",
    "\n",
    "from abc import ABC, abstractmethod\n",
    "\n",
    "class Shape(ABC):\n",
    "    @abstractmethod\n",
    "    def area(self):\n",
    "        pass\n",
    "\n",
    "class Triangle(Shape):\n",
    "    def __init__(self, base, height):\n",
    "        self.base = base\n",
    "        self.height = height\n",
    "\n",
    "    def area(self):\n",
    "        return 0.5 * self.base * self.height\n",
    "\n",
    "class Square(Shape):\n",
    "    def __init__(self, side):\n",
    "        self.side = side\n",
    "\n",
    "    def area(self):\n",
    "        return self.side * self.side\n",
    "\n",
    "triangle = Triangle(5, 4)\n",
    "print(\"Area of Triangle:\", triangle.area())\n",
    "\n",
    "square = Square(6)\n",
    "print(\"Area of Square:\", square.area())\n"
   ]
  }
 ],
 "metadata": {
  "kernelspec": {
   "display_name": "Python 3",
   "language": "python",
   "name": "python3"
  },
  "language_info": {
   "codemirror_mode": {
    "name": "ipython",
    "version": 3
   },
   "file_extension": ".py",
   "mimetype": "text/x-python",
   "name": "python",
   "nbconvert_exporter": "python",
   "pygments_lexer": "ipython3",
   "version": "3.12.3"
  }
 },
 "nbformat": 4,
 "nbformat_minor": 2
}
